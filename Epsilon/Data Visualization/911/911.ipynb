{
  "nbformat": 4,
  "nbformat_minor": 0,
  "metadata": {
    "colab": {
      "name": "Untitled4.ipynb",
      "provenance": [],
      "collapsed_sections": []
    },
    "kernelspec": {
      "name": "python3",
      "display_name": "Python 3"
    },
    "language_info": {
      "name": "python"
    }
  },
  "cells": [
    {
      "cell_type": "code",
      "metadata": {
        "id": "iWvKmeqm3JIU"
      },
      "source": [
        "import pandas as pd\n",
        "import seaborn as sns"
      ],
      "execution_count": 3,
      "outputs": []
    },
    {
      "cell_type": "code",
      "metadata": {
        "id": "515xWZOt3LyG"
      },
      "source": [
        "data = pd.read_csv('911.csv')\n"
      ],
      "execution_count": 4,
      "outputs": []
    },
    {
      "cell_type": "code",
      "metadata": {
        "colab": {
          "base_uri": "https://localhost:8080/",
          "height": 340
        },
        "id": "O1f4-Etg4OH8",
        "outputId": "3a1b1628-0185-467c-dec5-1c4fa0cb2bc4"
      },
      "source": [
        "data.head()"
      ],
      "execution_count": 5,
      "outputs": [
        {
          "output_type": "execute_result",
          "data": {
            "text/html": [
              "<div>\n",
              "<style scoped>\n",
              "    .dataframe tbody tr th:only-of-type {\n",
              "        vertical-align: middle;\n",
              "    }\n",
              "\n",
              "    .dataframe tbody tr th {\n",
              "        vertical-align: top;\n",
              "    }\n",
              "\n",
              "    .dataframe thead th {\n",
              "        text-align: right;\n",
              "    }\n",
              "</style>\n",
              "<table border=\"1\" class=\"dataframe\">\n",
              "  <thead>\n",
              "    <tr style=\"text-align: right;\">\n",
              "      <th></th>\n",
              "      <th>lat</th>\n",
              "      <th>lng</th>\n",
              "      <th>desc</th>\n",
              "      <th>zip</th>\n",
              "      <th>title</th>\n",
              "      <th>timeStamp</th>\n",
              "      <th>twp</th>\n",
              "      <th>addr</th>\n",
              "      <th>e</th>\n",
              "      <th>Reason</th>\n",
              "      <th>hour</th>\n",
              "      <th>month</th>\n",
              "      <th>day of week</th>\n",
              "      <th>Year</th>\n",
              "    </tr>\n",
              "  </thead>\n",
              "  <tbody>\n",
              "    <tr>\n",
              "      <th>0</th>\n",
              "      <td>40.297876</td>\n",
              "      <td>-75.581294</td>\n",
              "      <td>REINDEER CT &amp; DEAD END;  NEW HANOVER; Station ...</td>\n",
              "      <td>19525.0</td>\n",
              "      <td>EMS: BACK PAINS/INJURY</td>\n",
              "      <td>2015-12-10 17:10:52</td>\n",
              "      <td>NEW HANOVER</td>\n",
              "      <td>REINDEER CT &amp; DEAD END</td>\n",
              "      <td>1</td>\n",
              "      <td>EMS</td>\n",
              "      <td>17</td>\n",
              "      <td>12</td>\n",
              "      <td>Thu</td>\n",
              "      <td>2015</td>\n",
              "    </tr>\n",
              "    <tr>\n",
              "      <th>1</th>\n",
              "      <td>40.258061</td>\n",
              "      <td>-75.264680</td>\n",
              "      <td>BRIAR PATH &amp; WHITEMARSH LN;  HATFIELD TOWNSHIP...</td>\n",
              "      <td>19446.0</td>\n",
              "      <td>EMS: DIABETIC EMERGENCY</td>\n",
              "      <td>2015-12-10 17:29:21</td>\n",
              "      <td>HATFIELD TOWNSHIP</td>\n",
              "      <td>BRIAR PATH &amp; WHITEMARSH LN</td>\n",
              "      <td>1</td>\n",
              "      <td>EMS</td>\n",
              "      <td>17</td>\n",
              "      <td>12</td>\n",
              "      <td>Thu</td>\n",
              "      <td>2015</td>\n",
              "    </tr>\n",
              "    <tr>\n",
              "      <th>2</th>\n",
              "      <td>40.121182</td>\n",
              "      <td>-75.351975</td>\n",
              "      <td>HAWS AVE; NORRISTOWN; 2015-12-10 @ 14:39:21-St...</td>\n",
              "      <td>19401.0</td>\n",
              "      <td>Fire: GAS-ODOR/LEAK</td>\n",
              "      <td>2015-12-10 14:39:21</td>\n",
              "      <td>NORRISTOWN</td>\n",
              "      <td>HAWS AVE</td>\n",
              "      <td>1</td>\n",
              "      <td>Fire</td>\n",
              "      <td>14</td>\n",
              "      <td>12</td>\n",
              "      <td>Thu</td>\n",
              "      <td>2015</td>\n",
              "    </tr>\n",
              "    <tr>\n",
              "      <th>3</th>\n",
              "      <td>40.116153</td>\n",
              "      <td>-75.343513</td>\n",
              "      <td>AIRY ST &amp; SWEDE ST;  NORRISTOWN; Station 308A;...</td>\n",
              "      <td>19401.0</td>\n",
              "      <td>EMS: CARDIAC EMERGENCY</td>\n",
              "      <td>2015-12-10 16:47:36</td>\n",
              "      <td>NORRISTOWN</td>\n",
              "      <td>AIRY ST &amp; SWEDE ST</td>\n",
              "      <td>1</td>\n",
              "      <td>EMS</td>\n",
              "      <td>16</td>\n",
              "      <td>12</td>\n",
              "      <td>Thu</td>\n",
              "      <td>2015</td>\n",
              "    </tr>\n",
              "    <tr>\n",
              "      <th>4</th>\n",
              "      <td>40.251492</td>\n",
              "      <td>-75.603350</td>\n",
              "      <td>CHERRYWOOD CT &amp; DEAD END;  LOWER POTTSGROVE; S...</td>\n",
              "      <td>NaN</td>\n",
              "      <td>EMS: DIZZINESS</td>\n",
              "      <td>2015-12-10 16:56:52</td>\n",
              "      <td>LOWER POTTSGROVE</td>\n",
              "      <td>CHERRYWOOD CT &amp; DEAD END</td>\n",
              "      <td>1</td>\n",
              "      <td>EMS</td>\n",
              "      <td>16</td>\n",
              "      <td>12</td>\n",
              "      <td>Thu</td>\n",
              "      <td>2015</td>\n",
              "    </tr>\n",
              "  </tbody>\n",
              "</table>\n",
              "</div>"
            ],
            "text/plain": [
              "         lat        lng  ... day of week  Year\n",
              "0  40.297876 -75.581294  ...         Thu  2015\n",
              "1  40.258061 -75.264680  ...         Thu  2015\n",
              "2  40.121182 -75.351975  ...         Thu  2015\n",
              "3  40.116153 -75.343513  ...         Thu  2015\n",
              "4  40.251492 -75.603350  ...         Thu  2015\n",
              "\n",
              "[5 rows x 14 columns]"
            ]
          },
          "metadata": {},
          "execution_count": 5
        }
      ]
    },
    {
      "cell_type": "code",
      "metadata": {
        "colab": {
          "base_uri": "https://localhost:8080/",
          "height": 297
        },
        "id": "wM3oNKep4XhM",
        "outputId": "af75f42a-274f-41f5-8172-512c4949c97a"
      },
      "source": [
        "data.describe()"
      ],
      "execution_count": 6,
      "outputs": [
        {
          "output_type": "execute_result",
          "data": {
            "text/html": [
              "<div>\n",
              "<style scoped>\n",
              "    .dataframe tbody tr th:only-of-type {\n",
              "        vertical-align: middle;\n",
              "    }\n",
              "\n",
              "    .dataframe tbody tr th {\n",
              "        vertical-align: top;\n",
              "    }\n",
              "\n",
              "    .dataframe thead th {\n",
              "        text-align: right;\n",
              "    }\n",
              "</style>\n",
              "<table border=\"1\" class=\"dataframe\">\n",
              "  <thead>\n",
              "    <tr style=\"text-align: right;\">\n",
              "      <th></th>\n",
              "      <th>lat</th>\n",
              "      <th>lng</th>\n",
              "      <th>zip</th>\n",
              "      <th>e</th>\n",
              "      <th>hour</th>\n",
              "      <th>month</th>\n",
              "      <th>Year</th>\n",
              "    </tr>\n",
              "  </thead>\n",
              "  <tbody>\n",
              "    <tr>\n",
              "      <th>count</th>\n",
              "      <td>115211.000000</td>\n",
              "      <td>115211.000000</td>\n",
              "      <td>100789.000000</td>\n",
              "      <td>115211.0</td>\n",
              "      <td>115211.000000</td>\n",
              "      <td>115211.000000</td>\n",
              "      <td>115211.000000</td>\n",
              "    </tr>\n",
              "    <tr>\n",
              "      <th>mean</th>\n",
              "      <td>40.159127</td>\n",
              "      <td>-75.317145</td>\n",
              "      <td>19237.423201</td>\n",
              "      <td>1.0</td>\n",
              "      <td>13.064759</td>\n",
              "      <td>5.539714</td>\n",
              "      <td>2015.931291</td>\n",
              "    </tr>\n",
              "    <tr>\n",
              "      <th>std</th>\n",
              "      <td>0.093297</td>\n",
              "      <td>0.170770</td>\n",
              "      <td>336.415922</td>\n",
              "      <td>0.0</td>\n",
              "      <td>5.662017</td>\n",
              "      <td>3.115296</td>\n",
              "      <td>0.252959</td>\n",
              "    </tr>\n",
              "    <tr>\n",
              "      <th>min</th>\n",
              "      <td>30.333596</td>\n",
              "      <td>-95.595595</td>\n",
              "      <td>17752.000000</td>\n",
              "      <td>1.0</td>\n",
              "      <td>0.000000</td>\n",
              "      <td>1.000000</td>\n",
              "      <td>2015.000000</td>\n",
              "    </tr>\n",
              "    <tr>\n",
              "      <th>25%</th>\n",
              "      <td>40.100234</td>\n",
              "      <td>-75.391998</td>\n",
              "      <td>19038.000000</td>\n",
              "      <td>1.0</td>\n",
              "      <td>9.000000</td>\n",
              "      <td>3.000000</td>\n",
              "      <td>2016.000000</td>\n",
              "    </tr>\n",
              "    <tr>\n",
              "      <th>50%</th>\n",
              "      <td>40.144526</td>\n",
              "      <td>-75.304780</td>\n",
              "      <td>19401.000000</td>\n",
              "      <td>1.0</td>\n",
              "      <td>13.000000</td>\n",
              "      <td>5.000000</td>\n",
              "      <td>2016.000000</td>\n",
              "    </tr>\n",
              "    <tr>\n",
              "      <th>75%</th>\n",
              "      <td>40.229008</td>\n",
              "      <td>-75.211866</td>\n",
              "      <td>19446.000000</td>\n",
              "      <td>1.0</td>\n",
              "      <td>17.000000</td>\n",
              "      <td>8.000000</td>\n",
              "      <td>2016.000000</td>\n",
              "    </tr>\n",
              "    <tr>\n",
              "      <th>max</th>\n",
              "      <td>41.167156</td>\n",
              "      <td>-74.995041</td>\n",
              "      <td>77316.000000</td>\n",
              "      <td>1.0</td>\n",
              "      <td>23.000000</td>\n",
              "      <td>12.000000</td>\n",
              "      <td>2016.000000</td>\n",
              "    </tr>\n",
              "  </tbody>\n",
              "</table>\n",
              "</div>"
            ],
            "text/plain": [
              "                 lat            lng  ...          month           Year\n",
              "count  115211.000000  115211.000000  ...  115211.000000  115211.000000\n",
              "mean       40.159127     -75.317145  ...       5.539714    2015.931291\n",
              "std         0.093297       0.170770  ...       3.115296       0.252959\n",
              "min        30.333596     -95.595595  ...       1.000000    2015.000000\n",
              "25%        40.100234     -75.391998  ...       3.000000    2016.000000\n",
              "50%        40.144526     -75.304780  ...       5.000000    2016.000000\n",
              "75%        40.229008     -75.211866  ...       8.000000    2016.000000\n",
              "max        41.167156     -74.995041  ...      12.000000    2016.000000\n",
              "\n",
              "[8 rows x 7 columns]"
            ]
          },
          "metadata": {},
          "execution_count": 6
        }
      ]
    },
    {
      "cell_type": "code",
      "metadata": {
        "colab": {
          "base_uri": "https://localhost:8080/"
        },
        "id": "hvgrIbf84fmj",
        "outputId": "8c03beed-0e75-4a1d-c1fe-933755dc6ede"
      },
      "source": [
        "data['Reason'].value_counts()"
      ],
      "execution_count": 7,
      "outputs": [
        {
          "output_type": "execute_result",
          "data": {
            "text/plain": [
              "EMS        56986\n",
              "Traffic    40830\n",
              "Fire       17395\n",
              "Name: Reason, dtype: int64"
            ]
          },
          "metadata": {},
          "execution_count": 7
        }
      ]
    },
    {
      "cell_type": "code",
      "metadata": {
        "colab": {
          "base_uri": "https://localhost:8080/"
        },
        "id": "FL_Risqg5k5l",
        "outputId": "35521b4a-a742-4c16-c10d-69d8382fbd3e"
      },
      "source": [
        "data[data[\"Year\"].isin([\"2016\"])]['Reason'].value_counts()"
      ],
      "execution_count": 9,
      "outputs": [
        {
          "output_type": "execute_result",
          "data": {
            "text/plain": [
              "EMS        53088\n",
              "Traffic    37907\n",
              "Fire       16300\n",
              "Name: Reason, dtype: int64"
            ]
          },
          "metadata": {},
          "execution_count": 9
        }
      ]
    },
    {
      "cell_type": "code",
      "metadata": {
        "colab": {
          "base_uri": "https://localhost:8080/"
        },
        "id": "Qa-n2N-P5nDX",
        "outputId": "aa813a93-9f50-4c2e-9e36-c040ea41dba5"
      },
      "source": [
        "data[data[\"Year\"].isin([\"2015\"])]['Reason'].value_counts()"
      ],
      "execution_count": 10,
      "outputs": [
        {
          "output_type": "execute_result",
          "data": {
            "text/plain": [
              "EMS        3898\n",
              "Traffic    2923\n",
              "Fire       1095\n",
              "Name: Reason, dtype: int64"
            ]
          },
          "metadata": {},
          "execution_count": 10
        }
      ]
    },
    {
      "cell_type": "code",
      "metadata": {
        "colab": {
          "base_uri": "https://localhost:8080/"
        },
        "id": "HzJ-kXjR6CGR",
        "outputId": "651960a7-63dd-4677-9897-781010357427"
      },
      "source": [
        "data[data[\"Year\"].isin([\"2015\"])]['day of week'].value_counts()"
      ],
      "execution_count": 11,
      "outputs": [
        {
          "output_type": "execute_result",
          "data": {
            "text/plain": [
              "Thu    1262\n",
              "Mon    1251\n",
              "Wed    1247\n",
              "Tue    1234\n",
              "Fri    1058\n",
              "Sat     960\n",
              "Sun     904\n",
              "Name: day of week, dtype: int64"
            ]
          },
          "metadata": {},
          "execution_count": 11
        }
      ]
    },
    {
      "cell_type": "code",
      "metadata": {
        "colab": {
          "base_uri": "https://localhost:8080/"
        },
        "id": "nSApxQ8k6N6r",
        "outputId": "237ef1db-559c-472a-b59b-b65591bb03c5"
      },
      "source": [
        "data[data[\"Year\"].isin([\"2016\"])]['day of week'].value_counts()"
      ],
      "execution_count": 12,
      "outputs": [
        {
          "output_type": "execute_result",
          "data": {
            "text/plain": [
              "Fri    16333\n",
              "Tue    16114\n",
              "Wed    16076\n",
              "Mon    15668\n",
              "Thu    15667\n",
              "Sat    14363\n",
              "Sun    13074\n",
              "Name: day of week, dtype: int64"
            ]
          },
          "metadata": {},
          "execution_count": 12
        }
      ]
    },
    {
      "cell_type": "code",
      "metadata": {
        "colab": {
          "base_uri": "https://localhost:8080/"
        },
        "id": "KlDBCfcO6Qaq",
        "outputId": "4179289d-f13e-4d1a-acfd-39a9bccc1303"
      },
      "source": [
        "data[data[\"Year\"].isin([\"2015\"])]['addr'].value_counts()"
      ],
      "execution_count": 13,
      "outputs": [
        {
          "output_type": "execute_result",
          "data": {
            "text/plain": [
              "SHANNONDELL DR & SHANNONDELL BLVD    72\n",
              "GULPH RD & KIRK AVE                  33\n",
              "MAIN ST & OLD SUMNEYTOWN PIKE        31\n",
              "THE FAIRWAY  & RYDAL RD              26\n",
              "GERMANTOWN PIKE & HANNAH AVE         25\n",
              "                                     ..\n",
              "WAMBOLD RD                            1\n",
              "VALLEY CREEK RD                       1\n",
              "SUNNYBROOK RD & ARLINGHAM RD          1\n",
              "STUMP RD & WITCHWOOD DR               1\n",
              "WILLOW DR & ROSE DR                   1\n",
              "Name: addr, Length: 4553, dtype: int64"
            ]
          },
          "metadata": {},
          "execution_count": 13
        }
      ]
    },
    {
      "cell_type": "code",
      "metadata": {
        "colab": {
          "base_uri": "https://localhost:8080/"
        },
        "id": "FTr5NhI96VKd",
        "outputId": "44ca6f6b-5209-47ca-83e9-bcd8bd26a57b"
      },
      "source": [
        "data[data[\"Year\"].isin([\"2016\"])]['addr'].value_counts()"
      ],
      "execution_count": 14,
      "outputs": [
        {
          "output_type": "execute_result",
          "data": {
            "text/plain": [
              "SHANNONDELL DR & SHANNONDELL BLVD    1018\n",
              "MAIN ST & OLD SUMNEYTOWN PIKE         420\n",
              "THE FAIRWAY  & RYDAL RD               293\n",
              "EVERGREEN RD & W LIGHTCAP RD          255\n",
              "EAGLEVILLE RD & SUNDERLAND DR         239\n",
              "                                     ... \n",
              "NEWMAN RD & MARKLEY RD                  1\n",
              "PRINCE FREDERICK ST & HANSEN RD         1\n",
              "HEWETT RD & PARK LN                     1\n",
              "MACOBY CREEK WAY & 10TH ST              1\n",
              "JAMES ST & FOREST AVE                   1\n",
              "Name: addr, Length: 22757, dtype: int64"
            ]
          },
          "metadata": {},
          "execution_count": 14
        }
      ]
    },
    {
      "cell_type": "code",
      "metadata": {
        "colab": {
          "base_uri": "https://localhost:8080/",
          "height": 296
        },
        "id": "GR6NI9dV6YXP",
        "outputId": "e2234492-cae7-47cd-ee11-1cf18e5c0b4e"
      },
      "source": [
        "sns.countplot(x='hour', data=data, palette='pastel')"
      ],
      "execution_count": 17,
      "outputs": [
        {
          "output_type": "execute_result",
          "data": {
            "text/plain": [
              "<matplotlib.axes._subplots.AxesSubplot at 0x7f95dec0f750>"
            ]
          },
          "metadata": {},
          "execution_count": 17
        },
        {
          "output_type": "display_data",
          "data": {
            "image/png": "[encoded data removed]",
            "text/plain": [
              "<Figure size 432x288 with 1 Axes>"
            ]
          },
          "metadata": {
            "needs_background": "light"
          }
        }
      ]
    },
    {
      "cell_type": "code",
      "metadata": {
        "colab": {
          "base_uri": "https://localhost:8080/",
          "height": 296
        },
        "id": "PLj9eD_a63tf",
        "outputId": "637e0295-2e97-4d8b-9f80-fc6e92b3dd31"
      },
      "source": [
        "sns.countplot(x='day of week', data=data, palette='pastel')"
      ],
      "execution_count": 18,
      "outputs": [
        {
          "output_type": "execute_result",
          "data": {
            "text/plain": [
              "<matplotlib.axes._subplots.AxesSubplot at 0x7f95deb6f890>"
            ]
          },
          "metadata": {},
          "execution_count": 18
        },
        {
          "output_type": "display_data",
          "data": {
            "image/png": "[encoded data removed]",
            "text/plain": [
              "<Figure size 432x288 with 1 Axes>"
            ]
          },
          "metadata": {
            "needs_background": "light"
          }
        }
      ]
    },
    {
      "cell_type": "code",
      "metadata": {
        "colab": {
          "base_uri": "https://localhost:8080/",
          "height": 298
        },
        "id": "-zKw1uRs7UlV",
        "outputId": "ae4fb1f5-f318-4292-d0e4-5ebf07ca4df4"
      },
      "source": [
        "sns.barplot(x=\"Reason\" , y=\"hour\", data=data)"
      ],
      "execution_count": 20,
      "outputs": [
        {
          "output_type": "execute_result",
          "data": {
            "text/plain": [
              "<matplotlib.axes._subplots.AxesSubplot at 0x7f95deac6c90>"
            ]
          },
          "metadata": {},
          "execution_count": 20
        },
        {
          "output_type": "display_data",
          "data": {
            "image/png": "[encoded data removed]",
            "text/plain": [
              "<Figure size 432x288 with 1 Axes>"
            ]
          },
          "metadata": {
            "needs_background": "light"
          }
        }
      ]
    },
    {
      "cell_type": "code",
      "metadata": {
        "colab": {
          "base_uri": "https://localhost:8080/",
          "height": 296
        },
        "id": "C_wcgYMR8Kto",
        "outputId": "f13b5c3b-d37c-45c2-eb82-c351a09566b3"
      },
      "source": [
        "sns.kdeplot(data[\"month\"], shade = True)"
      ],
      "execution_count": 22,
      "outputs": [
        {
          "output_type": "execute_result",
          "data": {
            "text/plain": [
              "<matplotlib.axes._subplots.AxesSubplot at 0x7f95de961fd0>"
            ]
          },
          "metadata": {},
          "execution_count": 22
        },
        {
          "output_type": "display_data",
          "data": {
            "image/png": "[encoded data removed]",
            "text/plain": [
              "<Figure size 432x288 with 1 Axes>"
            ]
          },
          "metadata": {
            "needs_background": "light"
          }
        }
      ]
    },
    {
      "cell_type": "code",
      "metadata": {
        "id": "Nsf2gqEW8kpO"
      },
      "source": [
        ""
      ],
      "execution_count": null,
      "outputs": []
    }
  ]
}