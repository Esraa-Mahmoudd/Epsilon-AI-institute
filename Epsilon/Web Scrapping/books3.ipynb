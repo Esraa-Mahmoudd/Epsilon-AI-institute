{
  "nbformat": 4,
  "nbformat_minor": 0,
  "metadata": {
    "colab": {
      "name": "Untitled10.ipynb",
      "provenance": []
    },
    "kernelspec": {
      "name": "python3",
      "display_name": "Python 3"
    },
    "language_info": {
      "name": "python"
    }
  },
  "cells": [
    {
      "cell_type": "code",
      "metadata": {
        "id": "al6Fd8s3asyR"
      },
      "source": [
        "import requests , json\n",
        "import csv\n",
        "import time"
      ],
      "execution_count": 1,
      "outputs": []
    },
    {
      "cell_type": "code",
      "metadata": {
        "id": "VtaFY2N0a2l6"
      },
      "source": [
        "url = 'http://api.weatherstack.com/current?access_key=cce43aa3a3de500cc32c5df0e67c9408&query=Cairo'\n",
        "response = requests.get(url)\n",
        "json_response = json.loads(response.text)"
      ],
      "execution_count": 2,
      "outputs": []
    },
    {
      "cell_type": "code",
      "metadata": {
        "id": "h2UHQxGBa6aO"
      },
      "source": [
        "with open ('weather.csv','w',newline='') as f:\n",
        "    writer=csv.DictWriter(f,fieldnames=['Weather','Humidity','Visibility','Pressure','Wind Speed'])\n",
        "    writer.writeheader()\n",
        "\n",
        "    for i in range(10):\n",
        "        descriptions = json_response['current']\n",
        "        weather = descriptions['weather_descriptions'][0]\n",
        "        humidity = descriptions['humidity']\n",
        "        visibility = descriptions['visibility']\n",
        "        pressure = descriptions['pressure']\n",
        "        wind_speed = descriptions['wind_speed']\n",
        "        writer.writerow({'Weather':weather,'Humidity':humidity,'Visibility':visibility,'Pressure':pressure,'Wind Speed':wind_speed})\n",
        "        \n",
        "        time.sleep(2)"
      ],
      "execution_count": 3,
      "outputs": []
    },
    {
      "cell_type": "code",
      "metadata": {
        "id": "R00oSmKCa9HO"
      },
      "source": [
        ""
      ],
      "execution_count": null,
      "outputs": []
    }
  ]
}