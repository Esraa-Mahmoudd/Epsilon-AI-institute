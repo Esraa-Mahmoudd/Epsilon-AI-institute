{
  "nbformat": 4,
  "nbformat_minor": 0,
  "metadata": {
    "colab": {
      "name": "Untitled8.ipynb",
      "provenance": []
    },
    "kernelspec": {
      "name": "python3",
      "display_name": "Python 3"
    },
    "language_info": {
      "name": "python"
    }
  },
  "cells": [
    {
      "cell_type": "code",
      "metadata": {
        "id": "WjJyZJDQTlwK"
      },
      "source": [
        "import requests\n",
        "import csv\n",
        "from bs4 import BeautifulSoup"
      ],
      "execution_count": 1,
      "outputs": []
    },
    {
      "cell_type": "code",
      "metadata": {
        "id": "b-R3Bhr3TwnM"
      },
      "source": [
        "with open ('books.csv','w') as f:\n",
        "    writer=csv.DictWriter(f,fieldnames=['title','price','rating'])\n",
        "    writer.writeheader()\n",
        "    url = 'http://books.toscrape.com/catalogue/category/books/science_22/index.html'\n",
        "    response = requests.get(url)\n",
        "    s = BeautifulSoup(response.text, 'html.parser')\n",
        "    x=s.find_all('article', attrs = {'class','product_pod'})\n",
        "    for i in range(14):\n",
        "        title=x[i].find('h3').find('a').attrs['title']\n",
        "        price = x[i].find('p', attrs={'class': 'price_color'}).get_text()\n",
        "        price1=price.split('Â')[1]\n",
        "        rating=x[i].find('p').attrs['class'][1]\n",
        "        writer.writerow({'title': title,'price': price1 , 'rating' : rating})   "
      ],
      "execution_count": 9,
      "outputs": []
    },
    {
      "cell_type": "code",
      "metadata": {
        "id": "zsE-DYT0T_5F"
      },
      "source": [
        ""
      ],
      "execution_count": null,
      "outputs": []
    }
  ]
}