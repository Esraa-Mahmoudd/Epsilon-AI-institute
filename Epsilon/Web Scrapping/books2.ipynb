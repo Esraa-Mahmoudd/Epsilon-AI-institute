{
  "nbformat": 4,
  "nbformat_minor": 0,
  "metadata": {
    "colab": {
      "name": "Untitled9.ipynb",
      "provenance": []
    },
    "kernelspec": {
      "name": "python3",
      "display_name": "Python 3"
    },
    "language_info": {
      "name": "python"
    }
  },
  "cells": [
    {
      "cell_type": "code",
      "metadata": {
        "colab": {
          "base_uri": "https://localhost:8080/"
        },
        "id": "B8ODeEqcV3Pm",
        "outputId": "12e9d32c-4f3e-4de6-daf2-e75bb41f9d22"
      },
      "source": [
        "import requests\n",
        "from bs4 import BeautifulSoup\n",
        "\n",
        "url = 'https://www.exchangerates.org.uk/Dollars-to-Egyptian-Pounds-currency-conversion-page.html'\n",
        "response = requests.get(url)\n",
        "soup=BeautifulSoup(response.text,'html.parser')\n",
        "\n",
        "value=soup.find('span',attrs={'id':'shd2a'}).find('span').getText()\n",
        "usd_value=input(\"Please Enter Value in Dollars: \")\n",
        "LE=float(usd_value)*float(value)\n",
        "print(\"Your money in EGP equals to\")\n",
        "print(LE)\n",
        "\n"
      ],
      "execution_count": 13,
      "outputs": [
        {
          "output_type": "stream",
          "name": "stdout",
          "text": [
            "Please Enter Value in Dollars: 55\n",
            "Your money in EGP equals to\n",
            "863.6925\n"
          ]
        }
      ]
    },
    {
      "cell_type": "code",
      "metadata": {
        "id": "SYaHXIXRV5fl"
      },
      "source": [
        ""
      ],
      "execution_count": null,
      "outputs": []
    }
  ]
}